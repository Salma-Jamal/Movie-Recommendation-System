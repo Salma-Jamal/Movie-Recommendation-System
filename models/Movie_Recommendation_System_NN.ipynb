{
  "nbformat": 4,
  "nbformat_minor": 0,
  "metadata": {
    "colab": {
      "provenance": [],
      "include_colab_link": true
    },
    "kernelspec": {
      "name": "python3",
      "display_name": "Python 3"
    },
    "language_info": {
      "name": "python"
    },
    "accelerator": "GPU",
    "gpuClass": "standard"
  },
  "cells": [
    {
      "cell_type": "markdown",
      "metadata": {
        "id": "view-in-github",
        "colab_type": "text"
      },
      "source": [
        "<a href=\"https://colab.research.google.com/github/Salma-Jamal/Movie-Recommendation-System/blob/main/models/Movie_Recommendation_System_NN.ipynb\" target=\"_parent\"><img src=\"https://colab.research.google.com/assets/colab-badge.svg\" alt=\"Open In Colab\"/></a>"
      ]
    },
    {
      "cell_type": "code",
      "source": [
        "from google.colab import drive\n",
        "drive.mount('/content/drive')"
      ],
      "metadata": {
        "colab": {
          "base_uri": "https://localhost:8080/"
        },
        "id": "lXZgRkqRew_z",
        "outputId": "532e90df-1266-4da6-9d3b-95e329367e73"
      },
      "execution_count": 1,
      "outputs": [
        {
          "output_type": "stream",
          "name": "stdout",
          "text": [
            "Mounted at /content/drive\n"
          ]
        }
      ]
    },
    {
      "cell_type": "code",
      "source": [
        "import pandas as pd\n",
        "from sklearn.model_selection import train_test_split\n",
        "from keras.layers import Embedding, Input, Flatten, Dot, Dense\n",
        "from keras.models import Model\n",
        "from keras.layers import Embedding, Input, Flatten, Dot, Concatenate, Dense\n",
        "from keras.models import Model\n",
        "import numpy as np\n",
        "\n",
        "ratings = pd.read_csv(\"/content/drive/MyDrive/partition500k.csv\")"
      ],
      "metadata": {
        "id": "tzA6pwUFD30l"
      },
      "execution_count": 27,
      "outputs": []
    },
    {
      "cell_type": "markdown",
      "source": [
        "# Define Dictionary to convert Genre Column"
      ],
      "metadata": {
        "id": "w-4gvT4t1Q_I"
      }
    },
    {
      "cell_type": "code",
      "source": [
        "genres_dict = {'Action': 0,\n",
        " 'Comedy': 1,\n",
        " 'Drama': 2,\n",
        " 'Adventure': 3,\n",
        " 'Crime': 4,\n",
        " 'Horror': 5,\n",
        " 'Animation': 6,\n",
        " 'Children': 7,\n",
        " 'Thriller': 8,\n",
        " 'Documentary': 9,\n",
        " 'Sci-Fi': 10,\n",
        " 'Mystery': 11,\n",
        " 'Fantasy': 12,\n",
        " 'Musical': 13,\n",
        " 'Film-Noir': 14,\n",
        " 'Western': 15,\n",
        " 'Romance': 16,\n",
        " 'War': 17,\n",
        " 'IMAX': 18}"
      ],
      "metadata": {
        "id": "rN33XxMhgDza"
      },
      "execution_count": 28,
      "outputs": []
    },
    {
      "cell_type": "code",
      "source": [
        "ratings['genres_edit'] = ratings['genres'].map(lambda x: x.split('|')[0])"
      ],
      "metadata": {
        "id": "sS-4ZvQZfN5z"
      },
      "execution_count": 29,
      "outputs": []
    },
    {
      "cell_type": "code",
      "source": [
        "ratings['genres_edit'] = ratings['genres_edit'].map(lambda x:genres_dict[x])"
      ],
      "metadata": {
        "id": "Mg_QGZ8VgaSe"
      },
      "execution_count": 30,
      "outputs": []
    },
    {
      "cell_type": "code",
      "source": [
        "ratings"
      ],
      "metadata": {
        "colab": {
          "base_uri": "https://localhost:8080/",
          "height": 423
        },
        "id": "7h8kYFpzh3KQ",
        "outputId": "ab9465f9-29db-451e-8813-28bd5f1bffbe"
      },
      "execution_count": 31,
      "outputs": [
        {
          "output_type": "execute_result",
          "data": {
            "text/plain": [
              "        userId  movieId  rating   timestamp  \\\n",
              "0            1      122     5.0  1996-08-02   \n",
              "1            1      185     5.0  1996-08-02   \n",
              "2            1      231     5.0  1996-08-02   \n",
              "3            1      292     5.0  1996-08-02   \n",
              "4            1      316     5.0  1996-08-02   \n",
              "...        ...      ...     ...         ...   \n",
              "499995    3810     4369     2.5  2006-11-13   \n",
              "499996    3810     4370     2.0  2006-11-13   \n",
              "499997    3810     4378     4.0  2007-01-14   \n",
              "499998    3810     4396     1.0  2006-11-28   \n",
              "499999    3810     4446     2.5  2006-11-13   \n",
              "\n",
              "                                           title  \\\n",
              "0                               Boomerang (1992)   \n",
              "1                                Net, The (1995)   \n",
              "2                           Dumb & Dumber (1994)   \n",
              "3                                Outbreak (1995)   \n",
              "4                                Stargate (1994)   \n",
              "...                                          ...   \n",
              "499995          Fast and the Furious, The (2001)   \n",
              "499996       A.I. Artificial Intelligence (2001)   \n",
              "499997                         Sexy Beast (2000)   \n",
              "499998                Cannonball Run, The (1981)   \n",
              "499999  Final Fantasy: The Spirits Within (2001)   \n",
              "\n",
              "                                    genres  genres_edit  \n",
              "0                           Comedy|Romance            1  \n",
              "1                    Action|Crime|Thriller            0  \n",
              "2                                   Comedy            1  \n",
              "3             Action|Drama|Sci-Fi|Thriller            0  \n",
              "4                  Action|Adventure|Sci-Fi            0  \n",
              "...                                    ...          ...  \n",
              "499995               Action|Crime|Thriller            0  \n",
              "499996              Adventure|Drama|Sci-Fi            3  \n",
              "499997                  Comedy|Crime|Drama            1  \n",
              "499998                       Action|Comedy            0  \n",
              "499999  Adventure|Animation|Fantasy|Sci-Fi            3  \n",
              "\n",
              "[500000 rows x 7 columns]"
            ],
            "text/html": [
              "\n",
              "  <div id=\"df-c4c7aa05-1799-49e5-8a8f-5b128a749dd6\">\n",
              "    <div class=\"colab-df-container\">\n",
              "      <div>\n",
              "<style scoped>\n",
              "    .dataframe tbody tr th:only-of-type {\n",
              "        vertical-align: middle;\n",
              "    }\n",
              "\n",
              "    .dataframe tbody tr th {\n",
              "        vertical-align: top;\n",
              "    }\n",
              "\n",
              "    .dataframe thead th {\n",
              "        text-align: right;\n",
              "    }\n",
              "</style>\n",
              "<table border=\"1\" class=\"dataframe\">\n",
              "  <thead>\n",
              "    <tr style=\"text-align: right;\">\n",
              "      <th></th>\n",
              "      <th>userId</th>\n",
              "      <th>movieId</th>\n",
              "      <th>rating</th>\n",
              "      <th>timestamp</th>\n",
              "      <th>title</th>\n",
              "      <th>genres</th>\n",
              "      <th>genres_edit</th>\n",
              "    </tr>\n",
              "  </thead>\n",
              "  <tbody>\n",
              "    <tr>\n",
              "      <th>0</th>\n",
              "      <td>1</td>\n",
              "      <td>122</td>\n",
              "      <td>5.0</td>\n",
              "      <td>1996-08-02</td>\n",
              "      <td>Boomerang (1992)</td>\n",
              "      <td>Comedy|Romance</td>\n",
              "      <td>1</td>\n",
              "    </tr>\n",
              "    <tr>\n",
              "      <th>1</th>\n",
              "      <td>1</td>\n",
              "      <td>185</td>\n",
              "      <td>5.0</td>\n",
              "      <td>1996-08-02</td>\n",
              "      <td>Net, The (1995)</td>\n",
              "      <td>Action|Crime|Thriller</td>\n",
              "      <td>0</td>\n",
              "    </tr>\n",
              "    <tr>\n",
              "      <th>2</th>\n",
              "      <td>1</td>\n",
              "      <td>231</td>\n",
              "      <td>5.0</td>\n",
              "      <td>1996-08-02</td>\n",
              "      <td>Dumb &amp; Dumber (1994)</td>\n",
              "      <td>Comedy</td>\n",
              "      <td>1</td>\n",
              "    </tr>\n",
              "    <tr>\n",
              "      <th>3</th>\n",
              "      <td>1</td>\n",
              "      <td>292</td>\n",
              "      <td>5.0</td>\n",
              "      <td>1996-08-02</td>\n",
              "      <td>Outbreak (1995)</td>\n",
              "      <td>Action|Drama|Sci-Fi|Thriller</td>\n",
              "      <td>0</td>\n",
              "    </tr>\n",
              "    <tr>\n",
              "      <th>4</th>\n",
              "      <td>1</td>\n",
              "      <td>316</td>\n",
              "      <td>5.0</td>\n",
              "      <td>1996-08-02</td>\n",
              "      <td>Stargate (1994)</td>\n",
              "      <td>Action|Adventure|Sci-Fi</td>\n",
              "      <td>0</td>\n",
              "    </tr>\n",
              "    <tr>\n",
              "      <th>...</th>\n",
              "      <td>...</td>\n",
              "      <td>...</td>\n",
              "      <td>...</td>\n",
              "      <td>...</td>\n",
              "      <td>...</td>\n",
              "      <td>...</td>\n",
              "      <td>...</td>\n",
              "    </tr>\n",
              "    <tr>\n",
              "      <th>499995</th>\n",
              "      <td>3810</td>\n",
              "      <td>4369</td>\n",
              "      <td>2.5</td>\n",
              "      <td>2006-11-13</td>\n",
              "      <td>Fast and the Furious, The (2001)</td>\n",
              "      <td>Action|Crime|Thriller</td>\n",
              "      <td>0</td>\n",
              "    </tr>\n",
              "    <tr>\n",
              "      <th>499996</th>\n",
              "      <td>3810</td>\n",
              "      <td>4370</td>\n",
              "      <td>2.0</td>\n",
              "      <td>2006-11-13</td>\n",
              "      <td>A.I. Artificial Intelligence (2001)</td>\n",
              "      <td>Adventure|Drama|Sci-Fi</td>\n",
              "      <td>3</td>\n",
              "    </tr>\n",
              "    <tr>\n",
              "      <th>499997</th>\n",
              "      <td>3810</td>\n",
              "      <td>4378</td>\n",
              "      <td>4.0</td>\n",
              "      <td>2007-01-14</td>\n",
              "      <td>Sexy Beast (2000)</td>\n",
              "      <td>Comedy|Crime|Drama</td>\n",
              "      <td>1</td>\n",
              "    </tr>\n",
              "    <tr>\n",
              "      <th>499998</th>\n",
              "      <td>3810</td>\n",
              "      <td>4396</td>\n",
              "      <td>1.0</td>\n",
              "      <td>2006-11-28</td>\n",
              "      <td>Cannonball Run, The (1981)</td>\n",
              "      <td>Action|Comedy</td>\n",
              "      <td>0</td>\n",
              "    </tr>\n",
              "    <tr>\n",
              "      <th>499999</th>\n",
              "      <td>3810</td>\n",
              "      <td>4446</td>\n",
              "      <td>2.5</td>\n",
              "      <td>2006-11-13</td>\n",
              "      <td>Final Fantasy: The Spirits Within (2001)</td>\n",
              "      <td>Adventure|Animation|Fantasy|Sci-Fi</td>\n",
              "      <td>3</td>\n",
              "    </tr>\n",
              "  </tbody>\n",
              "</table>\n",
              "<p>500000 rows × 7 columns</p>\n",
              "</div>\n",
              "      <button class=\"colab-df-convert\" onclick=\"convertToInteractive('df-c4c7aa05-1799-49e5-8a8f-5b128a749dd6')\"\n",
              "              title=\"Convert this dataframe to an interactive table.\"\n",
              "              style=\"display:none;\">\n",
              "        \n",
              "  <svg xmlns=\"http://www.w3.org/2000/svg\" height=\"24px\"viewBox=\"0 0 24 24\"\n",
              "       width=\"24px\">\n",
              "    <path d=\"M0 0h24v24H0V0z\" fill=\"none\"/>\n",
              "    <path d=\"M18.56 5.44l.94 2.06.94-2.06 2.06-.94-2.06-.94-.94-2.06-.94 2.06-2.06.94zm-11 1L8.5 8.5l.94-2.06 2.06-.94-2.06-.94L8.5 2.5l-.94 2.06-2.06.94zm10 10l.94 2.06.94-2.06 2.06-.94-2.06-.94-.94-2.06-.94 2.06-2.06.94z\"/><path d=\"M17.41 7.96l-1.37-1.37c-.4-.4-.92-.59-1.43-.59-.52 0-1.04.2-1.43.59L10.3 9.45l-7.72 7.72c-.78.78-.78 2.05 0 2.83L4 21.41c.39.39.9.59 1.41.59.51 0 1.02-.2 1.41-.59l7.78-7.78 2.81-2.81c.8-.78.8-2.07 0-2.86zM5.41 20L4 18.59l7.72-7.72 1.47 1.35L5.41 20z\"/>\n",
              "  </svg>\n",
              "      </button>\n",
              "      \n",
              "  <style>\n",
              "    .colab-df-container {\n",
              "      display:flex;\n",
              "      flex-wrap:wrap;\n",
              "      gap: 12px;\n",
              "    }\n",
              "\n",
              "    .colab-df-convert {\n",
              "      background-color: #E8F0FE;\n",
              "      border: none;\n",
              "      border-radius: 50%;\n",
              "      cursor: pointer;\n",
              "      display: none;\n",
              "      fill: #1967D2;\n",
              "      height: 32px;\n",
              "      padding: 0 0 0 0;\n",
              "      width: 32px;\n",
              "    }\n",
              "\n",
              "    .colab-df-convert:hover {\n",
              "      background-color: #E2EBFA;\n",
              "      box-shadow: 0px 1px 2px rgba(60, 64, 67, 0.3), 0px 1px 3px 1px rgba(60, 64, 67, 0.15);\n",
              "      fill: #174EA6;\n",
              "    }\n",
              "\n",
              "    [theme=dark] .colab-df-convert {\n",
              "      background-color: #3B4455;\n",
              "      fill: #D2E3FC;\n",
              "    }\n",
              "\n",
              "    [theme=dark] .colab-df-convert:hover {\n",
              "      background-color: #434B5C;\n",
              "      box-shadow: 0px 1px 3px 1px rgba(0, 0, 0, 0.15);\n",
              "      filter: drop-shadow(0px 1px 2px rgba(0, 0, 0, 0.3));\n",
              "      fill: #FFFFFF;\n",
              "    }\n",
              "  </style>\n",
              "\n",
              "      <script>\n",
              "        const buttonEl =\n",
              "          document.querySelector('#df-c4c7aa05-1799-49e5-8a8f-5b128a749dd6 button.colab-df-convert');\n",
              "        buttonEl.style.display =\n",
              "          google.colab.kernel.accessAllowed ? 'block' : 'none';\n",
              "\n",
              "        async function convertToInteractive(key) {\n",
              "          const element = document.querySelector('#df-c4c7aa05-1799-49e5-8a8f-5b128a749dd6');\n",
              "          const dataTable =\n",
              "            await google.colab.kernel.invokeFunction('convertToInteractive',\n",
              "                                                     [key], {});\n",
              "          if (!dataTable) return;\n",
              "\n",
              "          const docLinkHtml = 'Like what you see? Visit the ' +\n",
              "            '<a target=\"_blank\" href=https://colab.research.google.com/notebooks/data_table.ipynb>data table notebook</a>'\n",
              "            + ' to learn more about interactive tables.';\n",
              "          element.innerHTML = '';\n",
              "          dataTable['output_type'] = 'display_data';\n",
              "          await google.colab.output.renderOutput(dataTable, element);\n",
              "          const docLink = document.createElement('div');\n",
              "          docLink.innerHTML = docLinkHtml;\n",
              "          element.appendChild(docLink);\n",
              "        }\n",
              "      </script>\n",
              "    </div>\n",
              "  </div>\n",
              "  "
            ]
          },
          "metadata": {},
          "execution_count": 31
        }
      ]
    },
    {
      "cell_type": "markdown",
      "source": [
        "# Training"
      ],
      "metadata": {
        "id": "ldQfWjTC23HV"
      }
    },
    {
      "cell_type": "code",
      "source": [
        "train, test = train_test_split(ratings, test_size=0.2, random_state=42)\n",
        "\n",
        "# inputs for the model\n",
        "user_input = Input(shape=[1])\n",
        "movie_input = Input(shape=[1])\n",
        "genre_input = Input(shape=[1])\n",
        "\n",
        "# create the embedding layer for the model feautres (inputs)\n",
        "user_embedding = Embedding(input_dim=len(ratings.userId.unique()), output_dim=5)(user_input)\n",
        "user_vec = Flatten()(user_embedding)\n",
        "\n",
        "\n",
        "movie_embedding = Embedding(input_dim=len(ratings.movieId.unique()), output_dim=5)(movie_input)\n",
        "movie_vec = Flatten()(movie_embedding)\n",
        "\n",
        "\n",
        "genre_embedding = Embedding(input_dim=len(ratings.genres_edit.unique()), output_dim=5)(genre_input)\n",
        "genre_vec = Flatten()(genre_embedding)\n",
        "\n",
        "\n",
        "# Concatenate the embeddings\n",
        "concat = Concatenate()([user_vec, movie_vec,genre_vec])\n",
        "\n",
        "# output layer\n",
        "output = Dense(1, activation='sigmoid')(concat)\n",
        "\n",
        "# model\n",
        "model = Model([user_input, movie_input,genre_input], output)\n",
        "\n",
        "# compile it \n",
        "model.compile(loss='mean_squared_error', optimizer='adam')\n",
        "\n",
        "# fit to the training data\n",
        "model.fit([train.userId, train.movieId,train.genres_edit], train.rating, epochs=100, verbose=1)\n",
        "\n",
        "# evaluate the model on the test data\n",
        "model.evaluate([test.userId, test.movieId,test.genres_edit], test.rating)\n"
      ],
      "metadata": {
        "colab": {
          "base_uri": "https://localhost:8080/"
        },
        "id": "6nA3yHl3HTJ2",
        "outputId": "879e8a10-3197-4843-c985-21b9872d071a"
      },
      "execution_count": 32,
      "outputs": [
        {
          "output_type": "stream",
          "name": "stdout",
          "text": [
            "Epoch 1/100\n",
            "12500/12500 [==============================] - 43s 3ms/step - loss: 7.6372\n",
            "Epoch 2/100\n",
            "12500/12500 [==============================] - 41s 3ms/step - loss: 7.5746\n",
            "Epoch 3/100\n",
            "12500/12500 [==============================] - 41s 3ms/step - loss: 7.5746\n",
            "Epoch 4/100\n",
            "12500/12500 [==============================] - 41s 3ms/step - loss: 7.5746\n",
            "Epoch 5/100\n",
            "12500/12500 [==============================] - 41s 3ms/step - loss: 7.5746\n",
            "Epoch 6/100\n",
            "12500/12500 [==============================] - 41s 3ms/step - loss: 7.5746\n",
            "Epoch 7/100\n",
            "12500/12500 [==============================] - 41s 3ms/step - loss: 7.5746\n",
            "Epoch 8/100\n",
            "12500/12500 [==============================] - 41s 3ms/step - loss: 7.5746\n",
            "Epoch 9/100\n",
            "12500/12500 [==============================] - 41s 3ms/step - loss: 7.5746\n",
            "Epoch 10/100\n",
            "12500/12500 [==============================] - 41s 3ms/step - loss: 7.5746\n",
            "Epoch 11/100\n",
            "12500/12500 [==============================] - 41s 3ms/step - loss: 7.5746\n",
            "Epoch 12/100\n",
            "12500/12500 [==============================] - 41s 3ms/step - loss: 7.5746\n",
            "Epoch 13/100\n",
            "12500/12500 [==============================] - 41s 3ms/step - loss: 7.5746\n",
            "Epoch 14/100\n",
            "12500/12500 [==============================] - 41s 3ms/step - loss: 7.5746\n",
            "Epoch 15/100\n",
            "12500/12500 [==============================] - 41s 3ms/step - loss: 7.5746\n",
            "Epoch 16/100\n",
            "12500/12500 [==============================] - 41s 3ms/step - loss: 7.5746\n",
            "Epoch 17/100\n",
            "12500/12500 [==============================] - 41s 3ms/step - loss: 7.5746\n",
            "Epoch 18/100\n",
            "12500/12500 [==============================] - 41s 3ms/step - loss: 7.5746\n",
            "Epoch 19/100\n",
            "12500/12500 [==============================] - 41s 3ms/step - loss: 7.5746\n",
            "Epoch 20/100\n",
            "12500/12500 [==============================] - 41s 3ms/step - loss: 7.5746\n",
            "Epoch 21/100\n",
            "12500/12500 [==============================] - 41s 3ms/step - loss: 7.5746\n",
            "Epoch 22/100\n",
            "12500/12500 [==============================] - 41s 3ms/step - loss: 7.5746\n",
            "Epoch 23/100\n",
            "12500/12500 [==============================] - 41s 3ms/step - loss: 7.5746\n",
            "Epoch 24/100\n",
            "12500/12500 [==============================] - 41s 3ms/step - loss: 7.5746\n",
            "Epoch 25/100\n",
            "12500/12500 [==============================] - 41s 3ms/step - loss: 7.5746\n",
            "Epoch 26/100\n",
            "12500/12500 [==============================] - 40s 3ms/step - loss: 7.5746\n",
            "Epoch 27/100\n",
            "12500/12500 [==============================] - 41s 3ms/step - loss: 7.5746\n",
            "Epoch 28/100\n",
            "12500/12500 [==============================] - 40s 3ms/step - loss: 7.5746\n",
            "Epoch 29/100\n",
            "12500/12500 [==============================] - 41s 3ms/step - loss: 7.5746\n",
            "Epoch 30/100\n",
            "12500/12500 [==============================] - 41s 3ms/step - loss: 7.5746\n",
            "Epoch 31/100\n",
            "12500/12500 [==============================] - 41s 3ms/step - loss: 7.5746\n",
            "Epoch 32/100\n",
            "12500/12500 [==============================] - 41s 3ms/step - loss: 7.5746\n",
            "Epoch 33/100\n",
            "12500/12500 [==============================] - 41s 3ms/step - loss: 7.5746\n",
            "Epoch 34/100\n",
            "12500/12500 [==============================] - 40s 3ms/step - loss: 7.5746\n",
            "Epoch 35/100\n",
            "12500/12500 [==============================] - 40s 3ms/step - loss: 7.5746\n",
            "Epoch 36/100\n",
            "12500/12500 [==============================] - 40s 3ms/step - loss: 7.5746\n",
            "Epoch 37/100\n",
            "12500/12500 [==============================] - 40s 3ms/step - loss: 7.5746\n",
            "Epoch 38/100\n",
            "12500/12500 [==============================] - 40s 3ms/step - loss: 7.5746\n",
            "Epoch 39/100\n",
            "12500/12500 [==============================] - 40s 3ms/step - loss: 7.5746\n",
            "Epoch 40/100\n",
            "12500/12500 [==============================] - 40s 3ms/step - loss: 7.5746\n",
            "Epoch 41/100\n",
            "12500/12500 [==============================] - 41s 3ms/step - loss: 7.5746\n",
            "Epoch 42/100\n",
            "12500/12500 [==============================] - 40s 3ms/step - loss: 7.5746\n",
            "Epoch 43/100\n",
            "12500/12500 [==============================] - 40s 3ms/step - loss: 7.5746\n",
            "Epoch 44/100\n",
            "12500/12500 [==============================] - 40s 3ms/step - loss: 7.5746\n",
            "Epoch 45/100\n",
            "12500/12500 [==============================] - 40s 3ms/step - loss: 7.5746\n",
            "Epoch 46/100\n",
            "12500/12500 [==============================] - 40s 3ms/step - loss: 7.5746\n",
            "Epoch 47/100\n",
            "12500/12500 [==============================] - 40s 3ms/step - loss: 7.5746\n",
            "Epoch 48/100\n",
            "12500/12500 [==============================] - 41s 3ms/step - loss: 7.5746\n",
            "Epoch 49/100\n",
            "12500/12500 [==============================] - 40s 3ms/step - loss: 7.5746\n",
            "Epoch 50/100\n",
            "12500/12500 [==============================] - 40s 3ms/step - loss: 7.5746\n",
            "Epoch 51/100\n",
            "12500/12500 [==============================] - 40s 3ms/step - loss: 7.5746\n",
            "Epoch 52/100\n",
            "12500/12500 [==============================] - 40s 3ms/step - loss: 7.5746\n",
            "Epoch 53/100\n",
            "12500/12500 [==============================] - 40s 3ms/step - loss: 7.5746\n",
            "Epoch 54/100\n",
            "12500/12500 [==============================] - 40s 3ms/step - loss: 7.5746\n",
            "Epoch 55/100\n",
            "12500/12500 [==============================] - 40s 3ms/step - loss: 7.5746\n",
            "Epoch 56/100\n",
            "12500/12500 [==============================] - 40s 3ms/step - loss: 7.5746\n",
            "Epoch 57/100\n",
            "12500/12500 [==============================] - 40s 3ms/step - loss: 7.5746\n",
            "Epoch 58/100\n",
            "12500/12500 [==============================] - 40s 3ms/step - loss: 7.5746\n",
            "Epoch 59/100\n",
            "12500/12500 [==============================] - 40s 3ms/step - loss: 7.5746\n",
            "Epoch 60/100\n",
            "12500/12500 [==============================] - 40s 3ms/step - loss: 7.5746\n",
            "Epoch 61/100\n",
            "12500/12500 [==============================] - 40s 3ms/step - loss: 7.5746\n",
            "Epoch 62/100\n",
            "12500/12500 [==============================] - 40s 3ms/step - loss: 7.5746\n",
            "Epoch 63/100\n",
            "12500/12500 [==============================] - 40s 3ms/step - loss: 7.5746\n",
            "Epoch 64/100\n",
            "12500/12500 [==============================] - 40s 3ms/step - loss: 7.5746\n",
            "Epoch 65/100\n",
            "12500/12500 [==============================] - 40s 3ms/step - loss: 7.5746\n",
            "Epoch 66/100\n",
            "12500/12500 [==============================] - 40s 3ms/step - loss: 7.5746\n",
            "Epoch 67/100\n",
            "12500/12500 [==============================] - 40s 3ms/step - loss: 7.5746\n",
            "Epoch 68/100\n",
            "12500/12500 [==============================] - 40s 3ms/step - loss: 7.5746\n",
            "Epoch 69/100\n",
            "12500/12500 [==============================] - 41s 3ms/step - loss: 7.5746\n",
            "Epoch 70/100\n",
            "12500/12500 [==============================] - 40s 3ms/step - loss: 7.5746\n",
            "Epoch 71/100\n",
            "12500/12500 [==============================] - 40s 3ms/step - loss: 7.5746\n",
            "Epoch 72/100\n",
            "12500/12500 [==============================] - 40s 3ms/step - loss: 7.5746\n",
            "Epoch 73/100\n",
            "12500/12500 [==============================] - 40s 3ms/step - loss: 7.5746\n",
            "Epoch 74/100\n",
            "12500/12500 [==============================] - 40s 3ms/step - loss: 7.5746\n",
            "Epoch 75/100\n",
            "12500/12500 [==============================] - 40s 3ms/step - loss: 7.5746\n",
            "Epoch 76/100\n",
            "12500/12500 [==============================] - 40s 3ms/step - loss: 7.5746\n",
            "Epoch 77/100\n",
            "12500/12500 [==============================] - 40s 3ms/step - loss: 7.5746\n",
            "Epoch 78/100\n",
            "12500/12500 [==============================] - 40s 3ms/step - loss: 7.5746\n",
            "Epoch 79/100\n",
            "12500/12500 [==============================] - 41s 3ms/step - loss: 7.5746\n",
            "Epoch 80/100\n",
            "12500/12500 [==============================] - 40s 3ms/step - loss: 7.5746\n",
            "Epoch 81/100\n",
            "12500/12500 [==============================] - 40s 3ms/step - loss: 7.5746\n",
            "Epoch 82/100\n",
            "12500/12500 [==============================] - 40s 3ms/step - loss: 7.5746\n",
            "Epoch 83/100\n",
            "12500/12500 [==============================] - 40s 3ms/step - loss: 7.5746\n",
            "Epoch 84/100\n",
            "12500/12500 [==============================] - 40s 3ms/step - loss: 7.5746\n",
            "Epoch 85/100\n",
            "12500/12500 [==============================] - 40s 3ms/step - loss: 7.5746\n",
            "Epoch 86/100\n",
            "12500/12500 [==============================] - 40s 3ms/step - loss: 7.5746\n",
            "Epoch 87/100\n",
            "12500/12500 [==============================] - 41s 3ms/step - loss: 7.5746\n",
            "Epoch 88/100\n",
            "12500/12500 [==============================] - 41s 3ms/step - loss: 7.5746\n",
            "Epoch 89/100\n",
            "12500/12500 [==============================] - 41s 3ms/step - loss: 7.5746\n",
            "Epoch 90/100\n",
            "12500/12500 [==============================] - 41s 3ms/step - loss: 7.5746\n",
            "Epoch 91/100\n",
            "12500/12500 [==============================] - 41s 3ms/step - loss: 7.5746\n",
            "Epoch 92/100\n",
            "12500/12500 [==============================] - 41s 3ms/step - loss: 7.5746\n",
            "Epoch 93/100\n",
            "12500/12500 [==============================] - 41s 3ms/step - loss: 7.5746\n",
            "Epoch 94/100\n",
            "12500/12500 [==============================] - 40s 3ms/step - loss: 7.5746\n",
            "Epoch 95/100\n",
            "12500/12500 [==============================] - 41s 3ms/step - loss: 7.5746\n",
            "Epoch 96/100\n",
            "12500/12500 [==============================] - 41s 3ms/step - loss: 7.5746\n",
            "Epoch 97/100\n",
            "12500/12500 [==============================] - 41s 3ms/step - loss: 7.5746\n",
            "Epoch 98/100\n",
            "12500/12500 [==============================] - 41s 3ms/step - loss: 7.5746\n",
            "Epoch 99/100\n",
            "12500/12500 [==============================] - 41s 3ms/step - loss: 7.5746\n",
            "Epoch 100/100\n",
            "12500/12500 [==============================] - 41s 3ms/step - loss: 7.5746\n",
            "3125/3125 [==============================] - 5s 2ms/step - loss: 7.5433\n"
          ]
        },
        {
          "output_type": "execute_result",
          "data": {
            "text/plain": [
              "7.543327331542969"
            ]
          },
          "metadata": {},
          "execution_count": 32
        }
      ]
    },
    {
      "cell_type": "markdown",
      "source": [
        "#Evaluate"
      ],
      "metadata": {
        "id": "uTrhCUop25j5"
      }
    },
    {
      "cell_type": "code",
      "source": [
        "model.evaluate([test.userId, test.movieId,test.genres_edit], test.rating)"
      ],
      "metadata": {
        "colab": {
          "base_uri": "https://localhost:8080/"
        },
        "id": "-DHmkVMW0RpD",
        "outputId": "d37ad16b-20b9-439d-e641-c377abffeca8"
      },
      "execution_count": 44,
      "outputs": [
        {
          "output_type": "stream",
          "name": "stdout",
          "text": [
            "3125/3125 [==============================] - 5s 2ms/step - loss: 7.5433\n"
          ]
        },
        {
          "output_type": "execute_result",
          "data": {
            "text/plain": [
              "7.543327331542969"
            ]
          },
          "metadata": {},
          "execution_count": 44
        }
      ]
    },
    {
      "cell_type": "markdown",
      "source": [
        "# Recommend a movie for a user"
      ],
      "metadata": {
        "id": "0UU49da72_eL"
      }
    },
    {
      "cell_type": "code",
      "source": [
        "def RecommendMovie(id):\n",
        "  # get the predicted ratings for all movies for a specific user\n",
        "  # Select a User\n",
        "  user_id = id\n",
        "\n",
        "  # Get Unique movie Ids\n",
        "  movie_ids = np.array(ratings.movieId.unique())\n",
        "\n",
        "  # Get Genres of each movie\n",
        "  movie_genres =  []\n",
        "  for i in ratings.movieId.unique():\n",
        "    movie_genres.append(ratings[ratings['movieId'] == i]['genres_edit'].tolist()[0])\n",
        "  movie_genres = np.array(movie_genres)\n",
        "\n",
        "  # Predict user rating for each unique movie\n",
        "  user_ratings = model.predict([np.array([user_id]*len(movie_ids)), movie_ids,movie_genres])\n",
        "\n",
        "  # sort by predicted rating and recommend the top N movies\n",
        "  top_movies = movie_ids[np.argsort(-user_ratings.flatten())]\n",
        "  return top_movies"
      ],
      "metadata": {
        "id": "KP5Xi1gd5_c_"
      },
      "execution_count": 58,
      "outputs": []
    },
    {
      "cell_type": "code",
      "source": [
        "user_id = 7\n",
        "top_movies = RecommendMovie(user_id)\n",
        "\n",
        "print(\"Movies Recommended for User\",user_id,\":\")\n",
        "for i in top_movies[:10]:\n",
        "  print(\"Movie id:\",i,\"-----\",ratings[ratings['movieId'] == i]['title'].tolist()[0])"
      ],
      "metadata": {
        "colab": {
          "base_uri": "https://localhost:8080/"
        },
        "id": "89_wOwxw6MSl",
        "outputId": "5724aa90-0676-4841-bff6-11029348ef58"
      },
      "execution_count": 60,
      "outputs": [
        {
          "output_type": "stream",
          "name": "stdout",
          "text": [
            "273/273 [==============================] - 0s 1ms/step\n",
            "Movies Recommended for User 7 :\n",
            "Movie id: 122 ----- Boomerang (1992)\n",
            "Movie id: 43744 ----- Imagine Me & You (2005)\n",
            "Movie id: 42021 ----- White Countess, The (2005)\n",
            "Movie id: 42007 ----- Rumor Has It... (2005)\n",
            "Movie id: 42004 ----- Transamerica (2005)\n",
            "Movie id: 41025 ----- Good Woman, A (2004)\n",
            "Movie id: 40966 ----- Libertine, The (2004)\n",
            "Movie id: 40955 ----- Breakfast on Pluto (2005)\n",
            "Movie id: 39449 ----- Prime (2005)\n",
            "Movie id: 39435 ----- Legend of Zorro, The (2005)\n"
          ]
        }
      ]
    },
    {
      "cell_type": "code",
      "source": [
        "user_id = 55\n",
        "top_movies = RecommendMovie(user_id)\n",
        "\n",
        "print(\"Movies Recommended for User\",user_id,\":\")\n",
        "for i in top_movies[:10]:\n",
        "  print(\"Movie id:\",i,\"-----\",ratings[ratings['movieId'] == i]['title'].tolist()[0])"
      ],
      "metadata": {
        "colab": {
          "base_uri": "https://localhost:8080/"
        },
        "id": "U4AUGayE6hG0",
        "outputId": "c145687e-7259-4d40-ce5e-77795744ce11"
      },
      "execution_count": 61,
      "outputs": [
        {
          "output_type": "stream",
          "name": "stdout",
          "text": [
            "273/273 [==============================] - 0s 1ms/step\n",
            "Movies Recommended for User 55 :\n",
            "Movie id: 122 ----- Boomerang (1992)\n",
            "Movie id: 6927 ----- Human Stain, The (2003)\n",
            "Movie id: 6832 ----- Regarding Henry (1991)\n",
            "Movie id: 6763 ----- Duplex (2003)\n",
            "Movie id: 6687 ----- My Boss's Daughter (2003)\n",
            "Movie id: 6493 ----- Alex and Emma (2003)\n",
            "Movie id: 6202 ----- Late Marriage (Hatuna Meuheret) (2001)\n",
            "Movie id: 6060 ----- Guru, The (2002)\n",
            "Movie id: 6041 ----- Amen. (2002)\n",
            "Movie id: 5817 ----- Ararat (2002)\n"
          ]
        }
      ]
    },
    {
      "cell_type": "code",
      "source": [
        "user_id = 5000\n",
        "top_movies = RecommendMovie(user_id)\n",
        "\n",
        "print(\"Movies Recommended for User\",user_id,\":\")\n",
        "for i in top_movies[:10]:\n",
        "  print(\"Movie id:\",i,\"-----\",ratings[ratings['movieId'] == i]['title'].tolist()[0])"
      ],
      "metadata": {
        "colab": {
          "base_uri": "https://localhost:8080/"
        },
        "id": "Dr8B0_jx6iYb",
        "outputId": "c8d3271a-e81a-487e-b601-93517c4919c2"
      },
      "execution_count": 62,
      "outputs": [
        {
          "output_type": "stream",
          "name": "stdout",
          "text": [
            "273/273 [==============================] - 0s 1ms/step\n",
            "Movies Recommended for User 5000 :\n",
            "Movie id: 122 ----- Boomerang (1992)\n",
            "Movie id: 63113 ----- Quantum of Solace (2008)\n",
            "Movie id: 62394 ----- Max Payne (2008)\n",
            "Movie id: 62113 ----- How to Lose Friends & Alienate People (2008)\n",
            "Movie id: 61132 ----- Tropic Thunder (2008)\n",
            "Movie id: 59421 ----- What Happens in Vegas... (2008)\n",
            "Movie id: 59387 ----- Fall, The (2006)\n",
            "Movie id: 59037 ----- Speed Racer (2008)\n",
            "Movie id: 58655 ----- Drillbit Taylor (2008)\n",
            "Movie id: 58347 ----- Penelope (2006)\n"
          ]
        }
      ]
    },
    {
      "cell_type": "code",
      "source": [
        "user_id = 900\n",
        "top_movies = RecommendMovie(user_id)\n",
        "\n",
        "print(\"Movies Recommended for User\",user_id,\":\")\n",
        "for i in top_movies[:10]:\n",
        "  print(\"Movie id:\",i,\"-----\",ratings[ratings['movieId'] == i]['title'].tolist()[0])"
      ],
      "metadata": {
        "colab": {
          "base_uri": "https://localhost:8080/"
        },
        "id": "TlCAF2M66uWQ",
        "outputId": "c64904b1-57a0-4636-ad99-a68bbd6aaca0"
      },
      "execution_count": 63,
      "outputs": [
        {
          "output_type": "stream",
          "name": "stdout",
          "text": [
            "273/273 [==============================] - 0s 1ms/step\n",
            "Movies Recommended for User 900 :\n",
            "Movie id: 122 ----- Boomerang (1992)\n",
            "Movie id: 42004 ----- Transamerica (2005)\n",
            "Movie id: 41025 ----- Good Woman, A (2004)\n",
            "Movie id: 40966 ----- Libertine, The (2004)\n",
            "Movie id: 40955 ----- Breakfast on Pluto (2005)\n",
            "Movie id: 39449 ----- Prime (2005)\n",
            "Movie id: 39435 ----- Legend of Zorro, The (2005)\n",
            "Movie id: 38499 ----- Angels in America (2003)\n",
            "Movie id: 36537 ----- Thumbsucker (2005)\n",
            "Movie id: 34523 ----- Chumscrubber, The (2005)\n"
          ]
        }
      ]
    }
  ]
}